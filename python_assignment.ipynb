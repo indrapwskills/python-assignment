{
  "nbformat": 4,
  "nbformat_minor": 0,
  "metadata": {
    "colab": {
      "provenance": []
    },
    "kernelspec": {
      "name": "python3",
      "display_name": "Python 3"
    },
    "language_info": {
      "name": "python"
    }
  },
  "cells": [
    {
      "cell_type": "markdown",
      "source": [
        " python assingment"
      ],
      "metadata": {
        "id": "01jXejRsWKs9"
      }
    },
    {
      "cell_type": "code",
      "execution_count": null,
      "metadata": {
        "id": "oPqd0DXMHav5"
      },
      "outputs": [],
      "source": [
        "#1. what is python,and why is it popular?\n",
        "\n",
        "  ''' python is a general-purpose progamming language. it can be used for developing any kind of application.\n",
        "\n",
        "  pythone is an interpreted language\n",
        "\n",
        "  python is a high level language i.e. it is closer to human  language/\n",
        "\n",
        "  it is an open source language i.e. it is free to use.\n",
        "\n",
        "   python is dynamically typed language i.e. we dont have to mention the data type of the variables.\n",
        "\n",
        "   pythone is a case sensitive language.\n",
        "\n",
        "  python is beginner friendly language.\n",
        "\n",
        "   python is a versatile language.'''\n"
      ]
    },
    {
      "cell_type": "code",
      "source": [
        " # 2. what is an interpreter in python?\n",
        "\n",
        "     ''' in python , an interpreter is a program that reads and executes python code line by line. basically python is an interpreter language.'''\n"
      ],
      "metadata": {
        "id": "RMaVfDUjKkTI"
      },
      "execution_count": null,
      "outputs": []
    },
    {
      "cell_type": "code",
      "source": [
        "#3. what are pre-defined keywords in python?\n",
        "\n",
        "''' Keywords are used to define the syntax of the coding. Pre-difined key words are if, else, for ,class etc.'''\n"
      ],
      "metadata": {
        "id": "gCihmBEoLV4A"
      },
      "execution_count": null,
      "outputs": []
    },
    {
      "cell_type": "code",
      "source": [
        "#4. can keywords be used as variable name?\n",
        " '''  python keywords cannot be used as variable name  because they are use only for a specific meaning in syntax.'''\n"
      ],
      "metadata": {
        "id": "6vPNZjNcL0A3"
      },
      "execution_count": null,
      "outputs": []
    },
    {
      "cell_type": "code",
      "source": [
        "#5. what is mutability in python?\n",
        "\n",
        "'''#mutable objects are objects whose value can be changed after creation.'''\n"
      ],
      "metadata": {
        "id": "Snv-LGlMO_gs"
      },
      "execution_count": null,
      "outputs": []
    },
    {
      "cell_type": "code",
      "source": [
        "#6. why are lists mutable but tuples are immutable?\n",
        "\n",
        "'''#becuse lists value can be changed .'''\n"
      ],
      "metadata": {
        "id": "koYhVMnR-ZAB"
      },
      "execution_count": null,
      "outputs": []
    },
    {
      "cell_type": "code",
      "source": [
        "#7. what is the difference between \"==\"\" and 'is' operators in python\n",
        "\n",
        "'''#In Python, == checks for value equality, while is checks for object identity.'''"
      ],
      "metadata": {
        "id": "Zksz7XJAADGy"
      },
      "execution_count": null,
      "outputs": []
    },
    {
      "cell_type": "code",
      "source": [
        "#8. what are logical operators in python?\n",
        "\n",
        "''' not, and, or'''"
      ],
      "metadata": {
        "id": "UeUagfinAkw5"
      },
      "execution_count": null,
      "outputs": []
    },
    {
      "cell_type": "code",
      "source": [
        "#9.  What is type casting in Python?\n",
        "''' type casting in python is the process of converting one data type in another  manually.'''"
      ],
      "metadata": {
        "id": "7J9c8xnFBFCJ"
      },
      "execution_count": null,
      "outputs": []
    },
    {
      "cell_type": "code",
      "source": [
        "#10. What is the difference between implicit and explicit type casting?\n",
        "\n",
        " ''' in implicit typecasting python automatically converts one data in to another data type whereas,python users have to convert one data type in to another data type manually.'''"
      ],
      "metadata": {
        "id": "qRddP-0kBgQJ"
      },
      "execution_count": null,
      "outputs": []
    },
    {
      "cell_type": "code",
      "source": [
        "#11.   what is the purpose of conditional statements in python\n",
        "\n",
        "\n",
        "'''Conditional statements in Python, like if, elif, and else, allow you to control the flow of your program by\n",
        " executing specific code blocks based on whether certain conditions are true or false, enabling dynamic and responsive programs.'''"
      ],
      "metadata": {
        "id": "TN1qErHfCckr"
      },
      "execution_count": null,
      "outputs": []
    },
    {
      "cell_type": "code",
      "source": [
        "#12. How does the elif statement work\n",
        "\n",
        "'''if the first condition is false, it moves on to the next “elif” statement to check if that condition is true.'''"
      ],
      "metadata": {
        "id": "r01X0TSXDLIz"
      },
      "execution_count": null,
      "outputs": []
    },
    {
      "cell_type": "code",
      "source": [
        "#13.  What is the difference between for and while loops?\n",
        "\n",
        "'''the primary difference between for and while loops lies in their iteration control: for loops are used when the number of iterations is known beforehand,\n",
        " # while loops are used when the loop continues until a specific condition is met, which may be an unknown number of times.'''"
      ],
      "metadata": {
        "id": "ccUAKaDFDWGa"
      },
      "execution_count": null,
      "outputs": []
    },
    {
      "cell_type": "code",
      "source": [
        "#14.describe a scenario where a while loop is more suitable than a for loop.\n",
        "\n",
        "#A while loop is often more suitable than a for loop in scenarios where the number of iterations is not predetermined and depends on a dynamic condition that can change during execution.\n",
        "\n",
        "#example\n",
        "\n",
        "user_input = -1\n",
        "while user_input <= 0:\n",
        "    user_input = int(input(\"Please enter a positive number: \"))\n",
        "print(f\"You entered a valid number: {user_input}\")"
      ],
      "metadata": {
        "colab": {
          "base_uri": "https://localhost:8080/"
        },
        "id": "dj6PPodeDvWa",
        "outputId": "af6b5431-31c7-448d-8fbd-e8b2d5abc084"
      },
      "execution_count": null,
      "outputs": [
        {
          "output_type": "stream",
          "name": "stdout",
          "text": [
            "Please enter a positive number: 1\n",
            "You entered a valid number: 1\n"
          ]
        }
      ]
    },
    {
      "cell_type": "markdown",
      "source": [
        "practical\n"
      ],
      "metadata": {
        "id": "pk89V_swfsoz"
      }
    },
    {
      "cell_type": "code",
      "source": [
        "#1.Write a Python program to print \"Hello, World!\n",
        "\n",
        "print(\"Hello, World!\")"
      ],
      "metadata": {
        "colab": {
          "base_uri": "https://localhost:8080/"
        },
        "id": "VYFHei-fFMqb",
        "outputId": "199a85f3-47be-4853-a97c-faa8efc8e73a"
      },
      "execution_count": null,
      "outputs": [
        {
          "output_type": "stream",
          "name": "stdout",
          "text": [
            "Hello, World!\n"
          ]
        }
      ]
    },
    {
      "cell_type": "code",
      "source": [
        "#2.Write a Python program that displays your name and age\n",
        "\n",
        "name = \"indra\"\n",
        "age =23\n",
        "print(name,age)"
      ],
      "metadata": {
        "colab": {
          "base_uri": "https://localhost:8080/"
        },
        "id": "XD4xfZjcFwK8",
        "outputId": "b7ccb3d4-ada8-458c-ba92-3e167b2e2efe"
      },
      "execution_count": null,
      "outputs": [
        {
          "output_type": "stream",
          "name": "stdout",
          "text": [
            "indra 23\n"
          ]
        }
      ]
    },
    {
      "cell_type": "code",
      "source": [
        "#3.Write code to print all the pre-defined keywords in Python using the keyword library?\n"
      ],
      "metadata": {
        "id": "IeA7xdyzGSaT"
      },
      "execution_count": null,
      "outputs": []
    },
    {
      "cell_type": "code",
      "source": [
        "#4. Write a program that checks if a given word is a Python keyword\n",
        "\n",
        "\n",
        "\n",
        "\n",
        "\n",
        "# Prompt the user for a word\n",
        "word = input(\"Enter a word to check if it's a Python keyword: \")\n",
        "\n",
        "# Check if the word is a Python keyword\n",
        "if keyword.iskeyword(word):\n",
        "    print(f\"'{word}' is a Python keyword.\")\n",
        "else:\n",
        "    print(f\"'{word}' is not a Python keyword.\")"
      ],
      "metadata": {
        "colab": {
          "base_uri": "https://localhost:8080/"
        },
        "id": "iN-DHsBgHreW",
        "outputId": "6d8539ee-404a-4aef-a484-84099e56cc57"
      },
      "execution_count": null,
      "outputs": [
        {
          "output_type": "stream",
          "name": "stdout",
          "text": [
            "Enter a word to check if it's a Python keyword: if\n",
            "'if' is a Python keyword.\n"
          ]
        }
      ]
    },
    {
      "cell_type": "code",
      "source": [
        "#5. creat a lists and tuple in python and demonstrate how attempting to change an element works differently for each.\n",
        "\n",
        "# List Example\n",
        "my_list = [1, 2, 3, 4]\n",
        "print(\"Original list:\", my_list)\n",
        "\n",
        "# Attempting to change an element in the list\n",
        "my_list[1] =77\n",
        "print(\"List after change:\", my_list)\n",
        "\n",
        "# Tuple Example\n",
        "my_tuple = (1, 2, 3, 4)\n",
        "print(\"Original tuple:\", my_tuple)\n",
        "\n",
        "# Attempting to change an element in the tuple\n",
        "try:\n",
        "    my_tuple[1] = 77\n",
        "except TypeError as e:\n",
        "    print(\"Error when trying to change tuple:\", e)"
      ],
      "metadata": {
        "id": "HvYLS3WMILjl",
        "colab": {
          "base_uri": "https://localhost:8080/"
        },
        "outputId": "04d84f8e-f3d2-4eb0-c86f-53d2332c3070"
      },
      "execution_count": null,
      "outputs": [
        {
          "output_type": "stream",
          "name": "stdout",
          "text": [
            "Original list: [1, 2, 3, 4]\n",
            "List after change: [1, 77, 3, 4]\n",
            "Original tuple: (1, 2, 3, 4)\n",
            "Error when trying to change tuple: 'tuple' object does not support item assignment\n"
          ]
        }
      ]
    },
    {
      "cell_type": "code",
      "source": [
        "#6. Write a function to demonstrate the behavior of mutable and immutable arguments\n",
        "\n",
        "\n",
        "\n",
        "\n",
        "def modify_arguments(mutable_arg, immutable_arg):\n",
        "    print(\"Before modification:\")\n",
        "    print(\"Mutable argument:\", mutable_arg)\n",
        "    print(\"Immutable argument:\", immutable_arg)\n",
        "\n",
        "    # Modify the mutable argument\n",
        "    mutable_arg.append(100)\n",
        "\n",
        "    # Attempt to modify the immutable argument (this won't change the original)\n",
        "    immutable_arg = 888\n",
        "\n",
        "    print(\"\\nAfter modification:\")\n",
        "    print(\"Mutable argument:\", mutable_arg)  # Will reflect changes\n",
        "    print(\"Immutable argument:\", immutable_arg)  # Will not affect the original\n",
        "\n",
        "\n",
        "# Demonstrating with a list (mutable) and an integer (immutable)\n",
        "my_list = [1, 2, 3]\n",
        "my_int = 24\n",
        "\n",
        "modify_arguments(my_list, my_int)\n",
        "\n",
        "print(\"\\nOriginal values after function call:\")\n",
        "print(\"Original list:\", my_list)  # This will show the modified list\n",
        "print(\"Original integer:\", my_int)  # This will remain the same\n"
      ],
      "metadata": {
        "colab": {
          "base_uri": "https://localhost:8080/"
        },
        "id": "8zozVCgHNDGW",
        "outputId": "3934960a-e209-4e44-8374-c4693a33b13c"
      },
      "execution_count": null,
      "outputs": [
        {
          "output_type": "stream",
          "name": "stdout",
          "text": [
            "Before modification:\n",
            "Mutable argument: [1, 2, 3]\n",
            "Immutable argument: 24\n",
            "\n",
            "After modification:\n",
            "Mutable argument: [1, 2, 3, 100]\n",
            "Immutable argument: 888\n",
            "\n",
            "Original values after function call:\n",
            "Original list: [1, 2, 3, 100]\n",
            "Original integer: 24\n"
          ]
        }
      ]
    },
    {
      "cell_type": "code",
      "source": [
        "#8. Write a program to demonstrate the use of logical operators\n",
        "\n",
        "\n",
        "\n",
        "def logical_operators_demo(a, b):\n",
        "    # Using 'and' operator\n",
        "    if a > 0 and b > 0:\n",
        "        print(f\"Both {a} and {b} are positive.\")\n",
        "    else:\n",
        "        print(f\"At least one of {a} or {b} is non-positive.\")\n",
        "\n",
        "    # Using 'or' operator\n",
        "    if a > 0 or b > 0:\n",
        "        print(f\"At least one of {a} or {b} is positive.\")\n",
        "    else:\n",
        "        print(f\"Neither {a} nor {b} is positive.\")\n",
        "\n",
        "    # Using 'not' operator\n",
        "    if not (a > 0):\n",
        "        print(f\"{a} is not positive.\")\n",
        "    else:\n",
        "        print(f\"{a} is positive.\")\n",
        "\n",
        "    # Combining logical operators\n",
        "    if (a > 0 and b > 0) or not (a == b):\n",
        "        print(f\"Condition (a > 0 and b > 0) or not (a == b) is True.\")\n",
        "    else:\n",
        "        print(f\"Condition (a > 0 and b > 0) or not (a == b) is False.\")\n",
        "\n",
        "\n",
        "# Example: Testing with a = 5 and b = -3\n",
        "logical_operators_demo(5, -3)\n",
        "\n",
        "# Example: Testing with a = -1 and b = -2\n",
        "logical_operators_demo(-1, -2)\n"
      ],
      "metadata": {
        "colab": {
          "base_uri": "https://localhost:8080/"
        },
        "id": "XeZzEOMQOVYm",
        "outputId": "22dba800-ecbc-49af-e130-0bb5fbe5bdd1"
      },
      "execution_count": null,
      "outputs": [
        {
          "output_type": "stream",
          "name": "stdout",
          "text": [
            "At least one of 5 or -3 is non-positive.\n",
            "At least one of 5 or -3 is positive.\n",
            "5 is positive.\n",
            "Condition (a > 0 and b > 0) or not (a == b) is True.\n",
            "At least one of -1 or -2 is non-positive.\n",
            "Neither -1 nor -2 is positive.\n",
            "-1 is not positive.\n",
            "Condition (a > 0 and b > 0) or not (a == b) is True.\n"
          ]
        }
      ]
    },
    {
      "cell_type": "code",
      "source": [
        "#9. Write a Python program to convert user input from string to integer, float, and boolean types\n",
        "\n",
        "\n",
        "\n",
        "def convert_user_input():\n",
        "    # Taking user input as a string\n",
        "    user_input = input(\"Enter a value: \")\n",
        "\n",
        "    # Converting to integer\n",
        "    try:\n",
        "        int_value = int(user_input)\n",
        "        print(f\"Converted to integer: {int_value}\")\n",
        "    except ValueError:\n",
        "        print(\"Cannot convert to integer.\")\n",
        "\n",
        "    # Converting to float\n",
        "    try:\n",
        "        float_value = float(user_input)\n",
        "        print(f\"Converted to float: {float_value}\")\n",
        "    except ValueError:\n",
        "        print(\"Cannot convert to float.\")\n",
        "\n",
        "    # Converting to boolean\n",
        "    # An empty string is considered False, anything else is True\n",
        "    if user_input.lower() == 'true':\n",
        "        bool_value = True\n",
        "    elif user_input.lower() == 'false':\n",
        "        bool_value = False\n",
        "    else:\n",
        "        bool_value = bool(user_input)  # Any non-empty string is considered True\n",
        "\n",
        "    print(f\"Converted to boolean: {bool_value}\")\n",
        "\n",
        "# Call the function to test\n",
        "convert_user_input()\n"
      ],
      "metadata": {
        "colab": {
          "base_uri": "https://localhost:8080/"
        },
        "id": "Z9Qlr2YZPFVo",
        "outputId": "b1129e33-9994-4f0c-8714-9facf854e88e"
      },
      "execution_count": null,
      "outputs": [
        {
          "output_type": "stream",
          "name": "stdout",
          "text": [
            "Enter a value: 100\n",
            "Converted to integer: 100\n",
            "Converted to float: 100.0\n",
            "Converted to boolean: True\n"
          ]
        }
      ]
    },
    {
      "cell_type": "code",
      "source": [
        "#10. write code to demonstrate type casting with list elements\n",
        "\n",
        "\n",
        "\n",
        "def type_casting_demo():\n",
        "    # List of mixed types (strings representing numbers, boolean values, etc.)\n",
        "    my_list = ['19', '19.9', 'True', 'False', '200']\n",
        "\n",
        "    # Convert elements to different types and display results\n",
        "    # Converting string elements to integers\n",
        "    int_list = [int(x) if x.isdigit() else x for x in my_list]\n",
        "    print(\"Converted to integers (if possible):\", int_list)\n",
        "\n",
        "    # Converting string elements to floats\n",
        "    float_list = [float(x) if x.replace('.', '', 1).isdigit() else x for x in my_list]\n",
        "    print(\"Converted to floats (if possible):\", float_list)\n",
        "\n",
        "    # Converting string elements to booleans\n",
        "    bool_list = [True if x.lower() == 'true' else False if x.lower() == 'false' else bool(x) for x in my_list]\n",
        "    print(\"Converted to booleans (if possible):\", bool_list)\n",
        "\n",
        "# Call the function to demonstrate type casting\n",
        "type_casting_demo()\n",
        "\n"
      ],
      "metadata": {
        "colab": {
          "base_uri": "https://localhost:8080/"
        },
        "id": "CwblyDVYPUV2",
        "outputId": "120fbd3b-bd44-423b-bf86-0db2d553a60d"
      },
      "execution_count": null,
      "outputs": [
        {
          "output_type": "stream",
          "name": "stdout",
          "text": [
            "Converted to integers (if possible): [19, '19.9', 'True', 'False', 200]\n",
            "Converted to floats (if possible): [19.0, 19.9, 'True', 'False', 200.0]\n",
            "Converted to booleans (if possible): [True, True, True, False, True]\n"
          ]
        }
      ]
    },
    {
      "cell_type": "code",
      "source": [
        "#11. Write a program that checks if a number is positive, negative, or zero.\n",
        "\n",
        "\n",
        "def check_number():\n",
        "    # Take input from the user\n",
        "    num = float(input(\"Enter a number: \"))\n",
        "\n",
        "    # Check if the number is positive, negative, or zero\n",
        "    if num > 0:\n",
        "        print(f\"The number {num} is positive.\")\n",
        "    elif num < 0:\n",
        "        print(f\"The number {num} is negative.\")\n",
        "    else:\n",
        "        print(f\"The number {num} is zero.\")\n",
        "\n",
        "\n",
        "check_number()\n",
        "\n"
      ],
      "metadata": {
        "colab": {
          "base_uri": "https://localhost:8080/"
        },
        "id": "Yp58ICfVPzVX",
        "outputId": "ad7b309a-d587-428b-cba4-cf5323dd11ef"
      },
      "execution_count": null,
      "outputs": [
        {
          "output_type": "stream",
          "name": "stdout",
          "text": [
            "Enter a number: -111\n",
            "The number -111.0 is negative.\n"
          ]
        }
      ]
    },
    {
      "cell_type": "code",
      "source": [
        "#12.Write a for loop to print numbers from 1 to 100\n",
        "\n",
        "\n",
        "for i in range(1, 101):\n",
        "    print(i)\n",
        "\n",
        "\n",
        "\n",
        "\n"
      ],
      "metadata": {
        "colab": {
          "base_uri": "https://localhost:8080/"
        },
        "id": "PEbOrAGqQObc",
        "outputId": "7c5f88c1-04c7-45f0-c6c4-00f06d9d5aed"
      },
      "execution_count": null,
      "outputs": [
        {
          "output_type": "stream",
          "name": "stdout",
          "text": [
            "1\n",
            "2\n",
            "3\n",
            "4\n",
            "5\n",
            "6\n",
            "7\n",
            "8\n",
            "9\n",
            "10\n",
            "11\n",
            "12\n",
            "13\n",
            "14\n",
            "15\n",
            "16\n",
            "17\n",
            "18\n",
            "19\n",
            "20\n",
            "21\n",
            "22\n",
            "23\n",
            "24\n",
            "25\n",
            "26\n",
            "27\n",
            "28\n",
            "29\n",
            "30\n",
            "31\n",
            "32\n",
            "33\n",
            "34\n",
            "35\n",
            "36\n",
            "37\n",
            "38\n",
            "39\n",
            "40\n",
            "41\n",
            "42\n",
            "43\n",
            "44\n",
            "45\n",
            "46\n",
            "47\n",
            "48\n",
            "49\n",
            "50\n",
            "51\n",
            "52\n",
            "53\n",
            "54\n",
            "55\n",
            "56\n",
            "57\n",
            "58\n",
            "59\n",
            "60\n",
            "61\n",
            "62\n",
            "63\n",
            "64\n",
            "65\n",
            "66\n",
            "67\n",
            "68\n",
            "69\n",
            "70\n",
            "71\n",
            "72\n",
            "73\n",
            "74\n",
            "75\n",
            "76\n",
            "77\n",
            "78\n",
            "79\n",
            "80\n",
            "81\n",
            "82\n",
            "83\n",
            "84\n",
            "85\n",
            "86\n",
            "87\n",
            "88\n",
            "89\n",
            "90\n",
            "91\n",
            "92\n",
            "93\n",
            "94\n",
            "95\n",
            "96\n",
            "97\n",
            "98\n",
            "99\n",
            "100\n"
          ]
        }
      ]
    },
    {
      "cell_type": "code",
      "source": [
        "#13. Write a Python program to find the sum of all even numbers between 1 and 5\n",
        "\n",
        "\n",
        "# Initialize sum variable\n",
        "even_sum = 0\n",
        "\n",
        "# Loop through numbers from 1 to 500\n",
        "for i in range(1, 501):\n",
        "    # Check if number is even using modulo operator\n",
        "    if i % 2 == 0:\n",
        "        even_sum += i\n",
        "\n",
        "# Print the result\n",
        "print(\"The sum of all even numbers between 1 and 500 is:\", even_sum)\n",
        "\n",
        "\n",
        "\n",
        "\n",
        "\n",
        "\n",
        "\n",
        "\n",
        "\n",
        "\n"
      ],
      "metadata": {
        "colab": {
          "base_uri": "https://localhost:8080/"
        },
        "id": "hcY_KWryQ1P8",
        "outputId": "589eca47-5a54-4991-c002-855bae1d3891"
      },
      "execution_count": null,
      "outputs": [
        {
          "output_type": "stream",
          "name": "stdout",
          "text": [
            "The sum of all even numbers between 1 and 500 is: 62750\n"
          ]
        }
      ]
    },
    {
      "cell_type": "code",
      "source": [
        "#14. Write a program to reverse a string using a while loop\n",
        "\n",
        "\n",
        "# Get input string from user\n",
        "input_string = input(\"Enter a string to reverse: \")\n",
        "\n",
        "# Initialize variables\n",
        "reversed_string = \"\"\n",
        "index = len(input_string) - 1\n",
        "\n",
        "# Use while loop to reverse the string\n",
        "while index >= 0:\n",
        "    reversed_string += input_string[index]\n",
        "    index -= 1\n",
        "\n",
        "# Print the result\n",
        "print(\"Reversed string:\", reversed_string)\n",
        "\n"
      ],
      "metadata": {
        "colab": {
          "base_uri": "https://localhost:8080/"
        },
        "id": "N-rMGsyhSAvE",
        "outputId": "9bb82de9-4fd2-4a1e-eace-3794b2f60506"
      },
      "execution_count": null,
      "outputs": [
        {
          "output_type": "stream",
          "name": "stdout",
          "text": [
            "Enter a string to reverse: 154\n",
            "Reversed string: 451\n"
          ]
        }
      ]
    },
    {
      "cell_type": "code",
      "source": [
        "#15.Write a Python program to calculate the factorial of a number provided by the user using a while loop\n",
        "\n",
        "\n",
        "def calculate_factorial():\n",
        "    # Take input from the user\n",
        "    num = int(input(\"Enter a number to calculate its factorial: \"))\n",
        "\n",
        "    # Check if the number is negative, as factorial is not defined for negative numbers\n",
        "    if num < 0:\n",
        "        print(\"Factorial is not defined for negative numbers.\")\n",
        "        return\n",
        "\n",
        "    # Initialize the factorial variable\n",
        "    factorial = 1\n",
        "    i = 1\n",
        "\n",
        "    # Use a while loop to calculate the factorial\n",
        "    while i <= num:\n",
        "        factorial *= i  # Multiply the current value of factorial by i\n",
        "        i += 1  # Increment i by 1\n",
        "\n",
        "    # Print the result\n",
        "    print(f\"The factorial of {num} is {factorial}\")\n",
        "\n",
        "# Call the function to calculate the factorial\n",
        "calculate_factorial()\n",
        "\n",
        "\n"
      ],
      "metadata": {
        "colab": {
          "base_uri": "https://localhost:8080/"
        },
        "id": "iPT5xhcaSlr-",
        "outputId": "c867e531-6f92-4653-f54e-3446d7b5d1d7"
      },
      "execution_count": null,
      "outputs": [
        {
          "output_type": "stream",
          "name": "stdout",
          "text": [
            "Enter a number to calculate its factorial: 10\n",
            "The factorial of 10 is 3628800\n"
          ]
        }
      ]
    },
    {
      "cell_type": "code",
      "source": [
        ""
      ],
      "metadata": {
        "id": "8A8fQwkzYBf1"
      },
      "execution_count": null,
      "outputs": []
    }
  ]
}